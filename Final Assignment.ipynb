{
    "cells": [
        {
            "metadata": {
                "collapsed": true
            },
            "cell_type": "markdown",
            "source": "# My Jupyter Notebook"
        },
        {
            "metadata": {},
            "cell_type": "markdown",
            "source": "This is the description for the final assignment, it contains the my proof of work, to show that I can indeed use a jupyter notebook in the most effective manner"
        },
        {
            "metadata": {},
            "cell_type": "markdown",
            "source": "#### Data Science Languages\n- Python\n- R\n- SQL"
        },
        {
            "metadata": {},
            "cell_type": "markdown",
            "source": "#### Data Science Libraries\n- Scikit-Learn\n- TensorFlow (Keras)\n- PyTorch\n- FastAI"
        },
        {
            "metadata": {},
            "cell_type": "markdown",
            "source": "#### Data Science Tools\n| tool1 | tool2 | tool3|\n|---|---|---|\n| Numpy | Pandas | MatLab |"
        },
        {
            "metadata": {},
            "cell_type": "markdown",
            "source": "#### Pythagoras Theorem\n\n$a^2 + b^2 = c^2$"
        },
        {
            "metadata": {},
            "cell_type": "code",
            "source": "a,b,c = 1, 2, 3\n\na *= b\nb += c\nprint(f\"a={a}, b={b}\")",
            "execution_count": 19,
            "outputs": [
                {
                    "output_type": "stream",
                    "text": "a=2, b=5\n",
                    "name": "stdout"
                }
            ]
        },
        {
            "metadata": {},
            "cell_type": "code",
            "source": "a = 125 # minutes\nprint(f\"{a} mins == {a//60}hrs and {a%60}min\") # hours & min",
            "execution_count": 20,
            "outputs": [
                {
                    "output_type": "stream",
                    "text": "125 mins == 2hrs and 5min\n",
                    "name": "stdout"
                }
            ]
        },
        {
            "metadata": {},
            "cell_type": "markdown",
            "source": "### Objectives\n- Exercise 2 - Create a markdown cell with the title of the notebook. (1 pt)\n- Exercise 3 - Create a markdown cell for an introduction. (1 pt)\n- Exercise 4 - Create a markdown cell to list data science languages. (3 pts)\n- Exercise 5 - Create a markdown cell to list data science libraries. (3 pts)\n- Exercise 6 - Create a markdown cell with a table of Data Science tools. (3 pts)\n- Exercise 7 - Create a markdown cell introducing arithmetic expression examples. (1 pt)\n- Exercise 8 - Create a code cell to multiply and add numbers.(2 pts)\n- Exercise 9 - Create a code cell to convert minutes to hours. (2 pts)\n- Exercise 10 -Insert a markdown cell to list Objectives. (3 pts)\n- Exercise 11 - Create a markdown cell to indicate the Author\u2019s name. (2 pts)\n- Exercise 12 - Share your notebook through GitHub (3 pts)\n- Exercise 13 - Take a screenshot of the first page of the notebook. (1 pt)"
        },
        {
            "metadata": {},
            "cell_type": "markdown",
            "source": "## Arka Haldi\n\nwannabe Data Scientist\n\n_I am interested in Data Science because I would love to contribute to the research and development of AI_"
        },
        {
            "metadata": {},
            "cell_type": "markdown",
            "source": "This is the link to [Github repo](https://github.com/Arka-h/IBM_course_pok)"
        }
    ],
    "metadata": {
        "kernelspec": {
            "name": "python3",
            "display_name": "Python 3.10",
            "language": "python"
        },
        "language_info": {
            "name": "python",
            "version": "3.10.9",
            "mimetype": "text/x-python",
            "codemirror_mode": {
                "name": "ipython",
                "version": 3
            },
            "pygments_lexer": "ipython3",
            "nbconvert_exporter": "python",
            "file_extension": ".py"
        }
    },
    "nbformat": 4,
    "nbformat_minor": 1
}